{
 "cells": [
  {
   "cell_type": "markdown",
   "id": "fed6d3ba-28e2-4ee4-8897-dd0431423ed4",
   "metadata": {},
   "source": [
    "# Graph Theory"
   ]
  },
  {
   "cell_type": "markdown",
   "id": "dd535ee3-b636-4b5f-a512-4d6eea5ea14d",
   "metadata": {},
   "source": [
    "## Mathematical Programming with Python\n"
   ]
  },
  {
   "cell_type": "markdown",
   "id": "f32d0525-1f75-43d0-ba1f-b0f0be407134",
   "metadata": {},
   "source": [
    "* Graph theory takes as its subject a collection of finitely many nodes, also called\n",
    "```vertices```. Between any pair of nodes, there might be a connection, called an ```edge```, or sometimes a ```link```. The\n",
    "connection created by an edge normally goes both ways. If we wish, we can specify that a connection is a\n",
    "```directed edge```, like a one-way street."
   ]
  },
  {
   "cell_type": "markdown",
   "id": "d72acf74-d0b7-4273-89ab-a53ac7bc2f81",
   "metadata": {},
   "source": [
    "If we think of the ```nodes``` as ```cities```, and the ```edges``` as ```roads```, we may wish\n",
    "1\n",
    "to include information about the mileage of each intercity road. In that case, we say we are using ```weighted\n",
    "edges.```\n"
   ]
  },
  {
   "cell_type": "markdown",
   "id": "0c321ed4-5fc7-4326-8678-c10b576640fb",
   "metadata": {},
   "source": [
    "## The Adjacency Matrix"
   ]
  },
  {
   "cell_type": "markdown",
   "id": "8ed981e0-82e0-4e80-a4a3-4d560786e9f5",
   "metadata": {},
   "source": [
    "* A graph represents a simple discrete geometry, defined by a ```set of n points or nodes```, some of which are\n",
    "```connected by edges```. For convenience, the nodes may be labeled numerically, 0 through n − 1, or with letters\n",
    "or other titles."
   ]
  },
  {
   "cell_type": "markdown",
   "id": "a92c4221-44ec-43ce-9f19-6f589169c1e6",
   "metadata": {},
   "source": [
    "In order to represent a graph computationally, we need a way to describe the connection structure. One\n",
    "way that is suitable for small graphs is called the ```adjacency matrix```. For a graph of n nodes, we construct an\n",
    "```n×n``` matrix A such that ```Ai,j = 1``` if ```nodes i and j``` are ```connected```. Obviously, this matrix must be ```symmetric```."
   ]
  },
  {
   "cell_type": "markdown",
   "id": "e44059e8-4318-45fc-96ac-278a359b4887",
   "metadata": {},
   "source": [
    "## Edge Distance"
   ]
  },
  {
   "cell_type": "markdown",
   "id": "d4cebaf3-c93c-41f2-bc46-6f8cde951c1e",
   "metadata": {},
   "source": [
    "From a given ```node i``` in a graph, we may ask how far away another ```node j``` is; that is, the length of the\n",
    "```shortest path from i to j```, if any. We may symbolize this edge distance as ```d(j)```. Of course, ```d(i) is 0```, and if\n",
    "there is ```no path from i to j```, we may set ```d(j) = ∞```.\n",
    "If we see a plot of a small graph, we can easily work out the values of d from a given starting point. But\n",
    "how could this be done computationally, even for a rather large and unseen graph?\n"
   ]
  },
  {
   "cell_type": "markdown",
   "id": "79d329d1-c0e7-4682-b02f-ce5f008a6e90",
   "metadata": {},
   "source": [
    "## Dictionary Representation of a Graph"
   ]
  },
  {
   "cell_type": "markdown",
   "id": "9334e087-6ccd-4594-ae19-3e9ae97e2858",
   "metadata": {},
   "source": [
    "The adjacency matrix seems a natural representation of a graph. However, there is a more concise representation which can save a lot of space by omitting a recording of all the edges that don’t exist.\n",
    "We can replace our adjacency matrix ```A[i,j]``` by a Python dictionary, (technically called a dict). A dictionary\n",
    "is a collection of ```keys and values```. We represent the graph as a set of nodes (the keys) and the list of their\n",
    "```neighbor nodes (the values)```. You can think of this as a ``compressed version of the adjacency matrix which\n",
    "drops all the ’0’ entries, and replaces the ’1’ values by the identifier for the node neighbor.``\n"
   ]
  },
  {
   "cell_type": "code",
   "execution_count": 9,
   "id": "3ffae594-0019-41a3-8659-0e189cc7c204",
   "metadata": {},
   "outputs": [
    {
     "name": "stdout",
     "output_type": "stream",
     "text": [
      "0 There are my neighbors\n",
      "3, \n",
      "1 There are my neighbors\n",
      "2, 3, \n",
      "2 There are my neighbors\n",
      "1, 4, \n",
      "3 There are my neighbors\n",
      "0, 1, 4, \n",
      "4 There are my neighbors\n",
      "2, 3, \n"
     ]
    }
   ],
   "source": [
    "# Dictionary Representations of a graph \n",
    "graph = {\n",
    "    0: [3],\n",
    "    1: [2, 3],\n",
    "    2: [1, 4],\n",
    "    3: [0, 1, 4],\n",
    "    4: [ 2, 3]\n",
    "}\n",
    "for node in graph:\n",
    "    print(node, \"There are my neighbors\")\n",
    "    for neighbor in graph[node]:\n",
    "        print(neighbor, end = \", \")\n",
    "    print()"
   ]
  },
  {
   "cell_type": "markdown",
   "id": "d5286060-4001-4b85-9493-2bc8ad63c915",
   "metadata": {},
   "source": [
    "##  Breadth First Search"
   ]
  },
  {
   "cell_type": "markdown",
   "id": "22f5fde9-656a-40c4-b668-ae2070fd8881",
   "metadata": {},
   "source": [
    "The search style we have used for the edge distance calculation is an example of `breadth first search`. Its\n",
    "structure is something like the gradual spread of a disease or a rumor or a drop of water wetting a cloth,\n",
    "involving the gradual spread from an initial point to `nearby neighbors`, gradually working its way `in all\n",
    "directions`.\n"
   ]
  },
  {
   "cell_type": "markdown",
   "id": "8a07da5d-a908-4886-9213-fcda7ce3e490",
   "metadata": {},
   "source": [
    "```Breadth First search``` uses a ``set`` and a ``queue``, which are Python structures which can be more efficient in\n",
    "processing speed, and allow a ``more concise programming style``."
   ]
  },
  {
   "cell_type": "markdown",
   "id": "dcf3a47a-b860-448c-8297-1ac5191b27e7",
   "metadata": {},
   "source": [
    "To carry out a ``breadth first search`` in Python, we need a kind of memory that keeps ``track of rooms`` we are\n",
    "just about ``to visit``, and rooms that we need to ``plan to visit later``. We will add newly encountered rooms to\n",
    "the end of the list, and choose our next room from the beginning of that list. Technically, this list is known\n",
    "as a ``queue;`` it’s just like an customer service line, where new customers are ``added at the end, and the next``\n",
    "customer to be served is the one at the front."
   ]
  },
  {
   "cell_type": "markdown",
   "id": "16dfa0bc-a9fe-4de4-8b21-a76ea07a7688",
   "metadata": {},
   "source": [
    "#### If our list is called queue[], then\n",
    "• To choose the next node to visit, we want to ``“pop”`` the first item off the list: ``node = queue.pop(0)``\n",
    "• As we visit the next node, we want to ``“append”```its ``unvisited neighbors`` to the ``end`` of the ``list``:\n",
    "```queue.append(neighbor)```;"
   ]
  },
  {
   "cell_type": "markdown",
   "id": "5dee107f-bcfc-4f42-b61a-1376c90797b5",
   "metadata": {},
   "source": [
    "We actually need a second object, ```visited[]```, which we treat as a ``set``. The set includes ``every node that we\n",
    "have ever visited``. We add a node using the command ``visited.add(node)``, and we check ``whether or not a\n",
    "node has been visited`` with the formula ````if ( node not in visited ):````."
   ]
  },
  {
   "cell_type": "markdown",
   "id": "5991ccc1-cade-4186-8ee9-2bb292ec232f",
   "metadata": {},
   "source": [
    "## Breadth first search python code"
   ]
  },
  {
   "cell_type": "code",
   "execution_count": 13,
   "id": "d6bca830-377c-48c4-973f-6c1e8b145f68",
   "metadata": {},
   "outputs": [
    {
     "name": "stdout",
     "output_type": "stream",
     "text": [
      "[0, 3, 1, 4, 2]\n"
     ]
    }
   ],
   "source": [
    "from collections import deque\n",
    "def bfs(graph, node):\n",
    "    # create  visited and queue objects with starting node\n",
    "    visited = set([node])\n",
    "    queue = deque([node])\n",
    "    result = []\n",
    "    while queue:\n",
    "        node = queue.popleft()\n",
    "        result.append(node)\n",
    "        for neighbor in graph[node]:\n",
    "            if neighbor not in visited:\n",
    "                visited.add(neighbor)\n",
    "                queue.append(neighbor)\n",
    "    return result\n",
    "    \n",
    "graph = {\n",
    "    0: [3],\n",
    "    1: [2, 3],\n",
    "    2: [1, 4],\n",
    "    3: [0, 1, 4],\n",
    "    4: [2, 3]\n",
    "}\n",
    "print(bfs(graph, 0))"
   ]
  },
  {
   "cell_type": "markdown",
   "id": "d24f0f52-eb3b-4e6c-9eed-a52bc2e73196",
   "metadata": {},
   "source": [
    "## Depth First Search"
   ]
  },
  {
   "cell_type": "markdown",
   "id": "dbc96f47-9822-4123-ae43-a9b7d6d41d76",
   "metadata": {},
   "source": [
    " Beginning\n",
    "at the starting node, we observe all the immediately ``accessible unexplored rooms``. We ``choose one to explore``,\n",
    "and ``“save”`` the others in some kind of list, ``planning to visit them later``. We repeat this strategy, always\n",
    "moving to an ``unexplored room``, until we reach a ``dead end``. At that point, we reverse our path until we\n",
    "encounter an ``unvisited room``, where we pick up our forward search strategy. By repeatedly ``traveling all the\n",
    "way to dead ends``, and then backing up to the ``most recent unexplored room``, we eventually ``visit every room``.\n",
    "This procedure is known as **depth first search**."
   ]
  },
  {
   "cell_type": "markdown",
   "id": "46e473d8-c0c5-4fc2-bf0d-164eb660aabb",
   "metadata": {},
   "source": [
    "During our search, we will ``need to choose the next node to visit``. To do so, we need to ``keep track of which\n",
    "nodes have already been visited``. We could create a logical array ``visited to do this, with all values initially\n",
    "False``. However, since in this example we are using letters to label our nodes, we will instead use a ``set``, that\n",
    "is, an ``unordered list of unique values``."
   ]
  },
  {
   "cell_type": "markdown",
   "id": "fa844d50-06a9-4716-81d5-e75c46206dd5",
   "metadata": {},
   "source": [
    "### Useful things about a Python set:\n",
    "\n",
    "• The elements don’t have to be numeric;\n",
    "\n",
    "• We can start out with an empty set: `visited = set()`\n",
    "\n",
    "• We can ask if a node is not already in the set: ``if node not in visited``\n",
    "\n",
    "• We can add a node to the set: ``visited.add ( node )``"
   ]
  },
  {
   "cell_type": "code",
   "execution_count": 15,
   "id": "56b4cffa-ebf5-4b68-b880-eb2929a1cc65",
   "metadata": {},
   "outputs": [
    {
     "name": "stdout",
     "output_type": "stream",
     "text": [
      "[0, 3, 1, 2, 4]\n",
      "[0, 3, 2, 1, 4, 6, 7, 5]\n"
     ]
    }
   ],
   "source": [
    "# depth first searching in python\n",
    "def dfs(graph, node, visited = set(), result= []):\n",
    "    if node not in visited:\n",
    "        result.append(node)\n",
    "        visited.add(node)\n",
    "        for neighbor in graph[node]:\n",
    "            dfs(graph, neighbor, visited, result)\n",
    "    return result\n",
    "        \n",
    "graph = {\n",
    "    0: [3],\n",
    "    1: [2, 3],\n",
    "    2: [1, 4],\n",
    "    3: [0, 1, 4],\n",
    "    4: [ 2, 3]\n",
    "}\n",
    "print(dfs(graph, 0, set(), [])) \n",
    "M = {\n",
    "0 : [ 3 ],\n",
    "1 : [ 2 ],\n",
    "2 : [ 1, 3, 4 ],\n",
    "3 : [ 0, 2, 5 ],\n",
    "4 : [ 2, 6, 7 ],\n",
    "5 : [ 3 ],\n",
    "6 : [ 4 ],\n",
    "7 : [ 4 ]\n",
    "}\n",
    "print(dfs(M, 0, set(), [])) "
   ]
  },
  {
   "cell_type": "code",
   "execution_count": 33,
   "id": "92b3c0e6-528b-472f-b3fe-090bea5c4461",
   "metadata": {},
   "outputs": [
    {
     "name": "stdout",
     "output_type": "stream",
     "text": [
      "[0, 3, 2, 1, 4, 6, 7, 5]\n"
     ]
    }
   ],
   "source": [
    "def dfs(graph, node, visited = set(), result=[]):\n",
    "    if node not in visited:\n",
    "        visited.add(node)\n",
    "        result.append(node)\n",
    "        for neighbor in graph[node]:\n",
    "            dfs(graph, neighbor, visited, result)\n",
    "    return result\n",
    "M = {\n",
    "0 : [ 3 ],\n",
    "1 : [ 2 ],\n",
    "2 : [ 1, 3, 4 ],\n",
    "3 : [ 0, 2, 5 ],\n",
    "4 : [ 2, 6, 7 ],\n",
    "5 : [ 3 ],\n",
    "6 : [ 4 ],\n",
    "7 : [ 4 ]\n",
    "}\n",
    "print(dfs(M, 0)) "
   ]
  },
  {
   "cell_type": "code",
   "execution_count": 17,
   "id": "369956a0-e4f1-4884-91ca-d272cd50c24b",
   "metadata": {},
   "outputs": [
    {
     "name": "stdout",
     "output_type": "stream",
     "text": [
      "[0, 3, 2, 5, 1, 4, 6, 7]\n"
     ]
    }
   ],
   "source": [
    "from collections import deque\n",
    "def bfs(graph, node):\n",
    "    visited = set([node])\n",
    "    next = deque([node])\n",
    "    result = []\n",
    "    while next:\n",
    "        node = next.popleft()\n",
    "        result.append(node)\n",
    "\n",
    "        for neighbor in graph[node]:\n",
    "            if neighbor not in visited:\n",
    "                visited.add(neighbor)\n",
    "                next.append(neighbor)\n",
    "    return result\n",
    "M = {\n",
    "0 : [ 3 ],\n",
    "1 : [ 2 ],\n",
    "2 : [ 1, 3, 4 ],\n",
    "3 : [ 0, 2, 5 ],\n",
    "4 : [ 2, 6, 7 ],\n",
    "5 : [ 3 ],\n",
    "6 : [ 4 ],\n",
    "7 : [ 4 ]\n",
    "}\n",
    "print(bfs(M, 0)) \n"
   ]
  },
  {
   "cell_type": "markdown",
   "id": "f3854ff1-7034-4530-a3c1-437d2be86057",
   "metadata": {},
   "source": [
    "## Shortest Path"
   ]
  },
  {
   "cell_type": "markdown",
   "id": "c5fd51bd-a5ca-4b51-8538-33435302795b",
   "metadata": {},
   "source": [
    "It is natural to represent such a system using a `“distance matrix”\r\n",
    "D`, in which` Di,`j is the distance between` nodes i and `j. If there is` no connection betwee`n the nodes, we set`\r\n",
    "Di,j =` ∞\n",
    "n f\r\n",
    "A graph in which e``ach edge is assigned a v``alue is calle``d a weighted g``raph. These weights are usually required\r\n",
    "t``o be pos``itive. They might represent distances, but could instead represent other quantities, such as the\r",
    "``\n",
    "flow capacity of ``a pipe. We are interested in solvin``g the node-t``o-node distance problem again, but now with\r\n",
    "weights assigned to eac\n",
    "edges.\r"
   ]
  },
  {
   "cell_type": "markdown",
   "id": "0cd560df-88d7-4da4-92e9-a11cf3f42fee",
   "metadata": {},
   "source": [
    "The approach to filling in the array s is known as **Dijkstra’s algorithm**. It goes as follows.\n",
    "1. Initialize the array s to ``np.Inf``.\n",
    "2. Initialize the array ``visited to False``.\n",
    "3. Set ``s[start] = 0``.\n",
    "   \n",
    "    (a) Set the current node to the ``unvisited node`` with ``smallest value of s``.\n",
    "    \n",
    "    (b) For every ``unvisited neighbor j`` of the ``current node``, set ``s[j] = min ( s[j], s[current] + D[current,j] )`` \n",
    "\n",
    "    (c) Set ``visited[current]=True``.\n",
    "    (d) If there are ``no more unvisited nodes``, ``terminate``.\n"
   ]
  },
  {
   "cell_type": "code",
   "execution_count": 5,
   "id": "7bd687c5-a982-41bf-ba27-059c1e718556",
   "metadata": {},
   "outputs": [
    {
     "name": "stdout",
     "output_type": "stream",
     "text": [
      "[(0, 3), (1, 2), (2, 1), (2, 3), (2, 4), (3, 0), (3, 2), (3, 5), (4, 2), (4, 6), (4, 7), (5, 3), (6, 4), (7, 4)]\n"
     ]
    }
   ],
   "source": [
    "# function to generate the list of all edges\n",
    "def generate_Edges(graph):\n",
    "    Edgees = []\n",
    "    for node in graph:\n",
    "        for neighbor in graph[node]:\n",
    "            Edgees.append((node, neighbor))\n",
    "    return Edgees\n",
    "\n",
    "graph = {\n",
    "0 : [ 3 ],\n",
    "1 : [ 2 ],\n",
    "2 : [ 1, 3, 4 ],\n",
    "3 : [ 0, 2, 5 ],\n",
    "4 : [ 2, 6, 7 ],\n",
    "5 : [ 3 ],\n",
    "6 : [ 4 ],\n",
    "7 : [ 4 ]\n",
    "}\n",
    "print(generate_Edges(graph))"
   ]
  },
  {
   "cell_type": "code",
   "execution_count": null,
   "id": "9d073bf7-1665-4407-bcc1-c0a4dfaf053d",
   "metadata": {},
   "outputs": [],
   "source": [
    "# Find isolated nodes in graph\n",
    "\n",
    "def find_isolated_nodes(graph):\n",
    "    isolated = set()\n",
    "    for node in graph:\n",
    "        # check if a node has neighbor nodes \n",
    "        if not graph[node]:\n",
    "            isolated.add(node)\n",
    "    return isolated"
   ]
  },
  {
   "cell_type": "code",
   "execution_count": 29,
   "id": "838a02d8-7453-4eb6-825c-4dc7c1a4efc8",
   "metadata": {},
   "outputs": [],
   "source": [
    "\"\"\"\n",
    "A python class \n",
    "A simple Python graph class, demonstrating the essential facts\n",
    "and functionlities of graph\n",
    "\"\"\"\n",
    "\n",
    "class Graph(object):\n",
    "    def __init__(self, graph_dict=None):\n",
    "        \"\"\"\n",
    "        Initializes a graph\n",
    "        \"\"\"\n",
    "        if not graph_dict:\n",
    "            graph_dict = {}\n",
    "        self._graph_dict = graph_dict\n",
    "    def edges(self, vertice):\n",
    "        if vertice in self._graph_dict:\n",
    "            return self._graph_dict[vertice]\n",
    "        return \"No Edges\"\n",
    "\n",
    "    def all_vertices(self):\n",
    "        return self._graph_dict.keys()\n",
    "\n",
    "    def all_edges(self):\n",
    "        edges = set()\n",
    "        for node in self._graph_dict:\n",
    "            for neighbor in self._graph_dict[node]:\n",
    "                edges.add((node, neighbor))\n",
    "        return edges\n",
    "\n",
    "    def add_vertex(self, vertex):\n",
    "        self._graph_dict[vertex] = set()\n",
    "\n",
    "    def add_edge(self, edge):\n",
    "        edge = set(edge)\n",
    "        vertex1, vertex2 = tuple(edge)\n",
    "        for v1, v2 in [(vertex1, vertex2), (vertex2, vertex1)]:\n",
    "            if v1 in self._graph_dict:\n",
    "                self._graph_dict[v1].add(v2)\n",
    "            else:\n",
    "                self._graph_dict[v1] = set([v2])\n",
    "\n",
    "    def __generate_edges(self):\n",
    "        edges = set()\n",
    "        for node in self._graph_dict:\n",
    "            for neighbor in self._graph_dict[node]:\n",
    "                edges.add((node, neighbor))\n",
    "        return edges\n",
    "\n",
    "    def __iter__(self):\n",
    "        self._iter_obj = iter(self._graph_dict)\n",
    "        return self._iter_obj\n",
    "\n",
    "    def __next__(self):\n",
    "        return next(self._iter_obj)\n",
    "\n",
    "    def __str__(self):\n",
    "        res = \"Vertices: \"\n",
    "        for node in self._graph_dict:\n",
    "            res += str(node) + \"  \" \n",
    "        res += \"\\nedgees: \"\n",
    "        for edge in self.__generate_edges():\n",
    "            res += str(edge) + \"  \"\n",
    "        return res"
   ]
  },
  {
   "cell_type": "code",
   "execution_count": 24,
   "id": "731b404c-873a-4870-a01c-107eea03a42c",
   "metadata": {},
   "outputs": [
    {
     "name": "stdout",
     "output_type": "stream",
     "text": [
      "Edges of vertice a:  {'d'}\n",
      "Edges of vertice b:  {'c'}\n",
      "Edges of vertice c:  {'c', 'd', 'e', 'b'}\n",
      "Edges of vertice d:  {'c', 'a'}\n",
      "Edges of vertice e:  {'c'}\n",
      "Edges of vertice f:  {}\n"
     ]
    }
   ],
   "source": [
    "g = { \"a\" : {\"d\"},\n",
    "      \"b\" : {\"c\"},\n",
    "      \"c\" : {\"b\", \"c\", \"d\", \"e\"},\n",
    "      \"d\" : {\"a\", \"c\"},\n",
    "      \"e\" : {\"c\"},\n",
    "      \"f\" : {}\n",
    "    }\n",
    "graph = Graph(g)\n",
    "\n",
    "for vertice in graph:\n",
    "    print(f\"Edges of vertice {vertice}: \", graph.edges(vertice))\n"
   ]
  },
  {
   "cell_type": "code",
   "execution_count": 25,
   "id": "3df16eee-6cf8-4515-a7cf-59753a9a05e3",
   "metadata": {},
   "outputs": [
    {
     "name": "stdout",
     "output_type": "stream",
     "text": [
      "\n",
      "Vertices of graph:\n",
      "dict_keys(['a', 'b', 'c', 'd', 'e', 'f', 'ab', 'fg', 'xyz', 'bla'])\n"
     ]
    }
   ],
   "source": [
    "graph.add_edge({\"ab\", \"fg\"})\n",
    "graph.add_edge({\"xyz\", \"bla\"})\n",
    "print(\"\")\n",
    "print(\"Vertices of graph:\")\n",
    "print(graph.all_vertices())"
   ]
  },
  {
   "cell_type": "code",
   "execution_count": 26,
   "id": "d6af9e89-b992-445a-9366-0bbf60a01013",
   "metadata": {},
   "outputs": [
    {
     "name": "stdout",
     "output_type": "stream",
     "text": [
      "Edges of graph:\n",
      "{('b', 'c'), ('c', 'c'), ('c', 'b'), ('a', 'd'), ('ab', 'fg'), ('bla', 'xyz'), ('d', 'a'), ('xyz', 'bla'), ('e', 'c'), ('fg', 'ab'), ('d', 'c'), ('c', 'e'), ('c', 'd')}\n",
      "\n",
      "Vertices of graph:\n",
      "dict_keys(['a', 'b', 'c', 'd', 'e', 'f', 'ab', 'fg', 'xyz', 'bla'])\n",
      "Edges of graph:\n",
      "{('b', 'c'), ('c', 'c'), ('c', 'b'), ('a', 'd'), ('ab', 'fg'), ('bla', 'xyz'), ('d', 'a'), ('xyz', 'bla'), ('e', 'c'), ('fg', 'ab'), ('d', 'c'), ('c', 'e'), ('c', 'd')}\n",
      "Add vertex:\n",
      "Add an edge:\n"
     ]
    }
   ],
   "source": [
    "print(\"Edges of graph:\")\n",
    "print(graph.all_edges())\n",
    "\n",
    "print(\"\")\n",
    "print(\"Vertices of graph:\")\n",
    "print(graph.all_vertices())\n",
    "\n",
    "print(\"Edges of graph:\")\n",
    "print(graph.all_edges())\n",
    "\n",
    "print(\"Add vertex:\")\n",
    "graph.add_vertex(\"z\")\n",
    "\n",
    "print(\"Add an edge:\")\n",
    "graph.add_edge({\"a\", \"d\"})"
   ]
  },
  {
   "cell_type": "code",
   "execution_count": 27,
   "id": "f47da96b-2f3c-47f5-bd63-b30c003f557f",
   "metadata": {},
   "outputs": [
    {
     "name": "stdout",
     "output_type": "stream",
     "text": [
      "Vertices of graph:\n",
      "dict_keys(['a', 'b', 'c', 'd', 'e', 'f', 'ab', 'fg', 'xyz', 'bla', 'z'])\n",
      "Edges of graph:\n",
      "{('b', 'c'), ('c', 'c'), ('c', 'b'), ('a', 'd'), ('ab', 'fg'), ('bla', 'xyz'), ('d', 'a'), ('xyz', 'bla'), ('e', 'c'), ('fg', 'ab'), ('d', 'c'), ('c', 'e'), ('c', 'd')}\n"
     ]
    }
   ],
   "source": [
    "print(\"Vertices of graph:\")\n",
    "print(graph.all_vertices())\n",
    "\n",
    "print(\"Edges of graph:\")\n",
    "print(graph.all_edges())\n"
   ]
  },
  {
   "cell_type": "code",
   "execution_count": 28,
   "id": "bd7cf7e3-3ba8-44ba-8f9b-95834948f2b7",
   "metadata": {},
   "outputs": [
    {
     "name": "stdout",
     "output_type": "stream",
     "text": [
      "Adding an edge {\"x\",\"y\"} with new vertices:\n",
      "Vertices of graph:\n",
      "dict_keys(['a', 'b', 'c', 'd', 'e', 'f', 'ab', 'fg', 'xyz', 'bla', 'z', 'x', 'y'])\n",
      "Edges of graph:\n",
      "{('b', 'c'), ('c', 'c'), ('c', 'b'), ('x', 'y'), ('a', 'd'), ('y', 'x'), ('ab', 'fg'), ('bla', 'xyz'), ('d', 'a'), ('xyz', 'bla'), ('e', 'c'), ('fg', 'ab'), ('d', 'c'), ('c', 'e'), ('c', 'd')}\n"
     ]
    }
   ],
   "source": [
    "print('Adding an edge {\"x\",\"y\"} with new vertices:')\n",
    "graph.add_edge({\"x\",\"y\"})\n",
    "print(\"Vertices of graph:\")\n",
    "print(graph.all_vertices())\n",
    "print(\"Edges of graph:\")\n",
    "print(graph.all_edges())"
   ]
  },
  {
   "cell_type": "markdown",
   "id": "c19d6126-5ddc-4756-bf33-c239ac405c35",
   "metadata": {},
   "source": [
    "## Degree and Degree Sequence"
   ]
  },
  {
   "cell_type": "markdown",
   "id": "9d509387-9ead-498d-801e-67559ba7ed95",
   "metadata": {},
   "source": [
    "* The degree of a `vertex v` in a graph is the `number of edges` connecting it, with loops `counted twice`. The degree of a vertex v is denoted `deg(v)`. The maximum degree of a `graph G`, denoted by `Δ(G)`, and the `minimum degree` of a graph, denoted by `δ(G)`, are the maximum and minimum degree of its vertices."
   ]
  },
  {
   "cell_type": "markdown",
   "id": "7d6ad04c-8c8e-44a0-8543-f32fa58e0bc5",
   "metadata": {},
   "source": [
    "* If `all the degrees` in a graph are the `same`, the graph is ``a regular graph``.\n",
    "\n",
    "* In a regular graph, ``all degrees are the same``, and so we can speak of the ``degree of the graph``."
   ]
  },
  {
   "cell_type": "markdown",
   "id": "bffbc4f7-af27-4093-b8e9-f47b6726f18a",
   "metadata": {},
   "source": [
    "The degree sum formula `(Handshaking lemma)`:\n",
    "\n",
    "`````∑v ∈ Vdeg(v) = 2 |E|`````"
   ]
  },
  {
   "cell_type": "markdown",
   "id": "dbfa5246-9f79-4b93-a1ac-3f6056fb83a9",
   "metadata": {},
   "source": [
    "* This means that the ``sum of degrees of all the vertices`` is equal to the number of edges ``multiplied by 2``. We can conclude that the ``number of vertices`` with ``odd degree has to be even``"
   ]
  },
  {
   "cell_type": "code",
   "execution_count": 21,
   "id": "0cf04c61-124c-4b21-ac7f-6d06a51cd0ea",
   "metadata": {},
   "outputs": [],
   "source": [
    "class Graph2(Graph):\n",
    "    def vertex_degree(self, vertex):\n",
    "        degree = len(self._graph_dict[vertex])\n",
    "        if vertex in self._graph_dict[vertex]:\n",
    "            degree += 1\n",
    "        return degree\n",
    "\n",
    "    def find_isolated_vertices(self):\n",
    "        isolated = []\n",
    "\n",
    "        for vertex in self._graph_dict:\n",
    "            if not self._graph_dict[vertex]:\n",
    "                isolated.append(vertex)\n",
    "        return isolated\n",
    "\n",
    "    def Delta(self):\n",
    "        max_degree = 0 \n",
    "        for vertex in self._graph_dict:\n",
    "            max_degree = max(max_degree, self.vertex_degree(vertex))\n",
    "        return max_degree\n",
    "\n",
    "    def degree_sequence(self):\n",
    "        degrees = []\n",
    "        for vertex in self._graph_dict:\n",
    "            degrees.append(self.vertex_degree(vertex))\n",
    "        degrees.sort(reverse=True)\n",
    "        return degrees"
   ]
  },
  {
   "cell_type": "code",
   "execution_count": 22,
   "id": "3b5aa624-adce-49cd-af74-951a641ee1b9",
   "metadata": {},
   "outputs": [
    {
     "data": {
      "text/plain": [
       "[5, 2, 2, 1, 1, 1]"
      ]
     },
     "execution_count": 22,
     "metadata": {},
     "output_type": "execute_result"
    }
   ],
   "source": [
    "g = { \"a\" : {\"d\", \"f\"},\n",
    "      \"b\" : {\"c\"},\n",
    "      \"c\" : {\"b\", \"c\", \"d\", \"e\"},\n",
    "      \"d\" : {\"a\", \"c\"},\n",
    "      \"e\" : {\"c\"},\n",
    "      \"f\" : {\"d\"}\n",
    "    }\n",
    "\n",
    "\n",
    "graph = Graph2(g)\n",
    "graph.degree_sequence()"
   ]
  },
  {
   "cell_type": "code",
   "execution_count": 45,
   "id": "24f511c9-95cd-4e3f-8e93-0e36a6fc9be4",
   "metadata": {},
   "outputs": [
    {
     "data": {
      "text/plain": [
       "[5, 3, 2, 2, 1, 1]"
      ]
     },
     "execution_count": 45,
     "metadata": {},
     "output_type": "execute_result"
    }
   ],
   "source": [
    "g = { \"a\" : {\"d\", \"f\"},\n",
    "      \"b\" : {\"c\"},\n",
    "      \"c\" : {\"b\", \"c\", \"d\", \"e\"},\n",
    "      \"d\" : {\"a\", \"c\", \"f\"},\n",
    "      \"e\" : {\"c\"},\n",
    "      \"f\" : {\"a\", \"d\"}\n",
    "    }\n",
    "graph = Graph2(g)\n",
    "graph.degree_sequence()"
   ]
  },
  {
   "cell_type": "code",
   "execution_count": null,
   "id": "31a5d24a-f5ea-49ac-8d0b-5606086b32fc",
   "metadata": {},
   "outputs": [],
   "source": []
  }
 ],
 "metadata": {
  "kernelspec": {
   "display_name": "Python 3 (ipykernel)",
   "language": "python",
   "name": "python3"
  },
  "language_info": {
   "codemirror_mode": {
    "name": "ipython",
    "version": 3
   },
   "file_extension": ".py",
   "mimetype": "text/x-python",
   "name": "python",
   "nbconvert_exporter": "python",
   "pygments_lexer": "ipython3",
   "version": "3.11.7"
  }
 },
 "nbformat": 4,
 "nbformat_minor": 5
}
